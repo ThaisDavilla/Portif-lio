{
  "nbformat": 4,
  "nbformat_minor": 0,
  "metadata": {
    "colab": {
      "provenance": [],
      "toc_visible": true,
      "authorship_tag": "ABX9TyPi0OH0IbQFmIzXiyOhAbPt",
      "include_colab_link": true
    },
    "kernelspec": {
      "name": "python3",
      "display_name": "Python 3"
    },
    "language_info": {
      "name": "python"
    }
  },
  "cells": [
    {
      "cell_type": "markdown",
      "metadata": {
        "id": "view-in-github",
        "colab_type": "text"
      },
      "source": [
        "<a href=\"https://colab.research.google.com/github/ThaisDavilla/Portifolio/blob/main/Aula_de_Python.ipynb\" target=\"_parent\"><img src=\"https://colab.research.google.com/assets/colab-badge.svg\" alt=\"Open In Colab\"/></a>"
      ]
    },
    {
      "cell_type": "code",
      "execution_count": 4,
      "metadata": {
        "colab": {
          "base_uri": "https://localhost:8080/"
        },
        "id": "UKwS5tT5ujVE",
        "outputId": "48982895-bfb5-4ae1-efdb-981e26ed4496"
      },
      "outputs": [
        {
          "output_type": "stream",
          "name": "stdout",
          "text": [
            "Thais\n"
          ]
        }
      ],
      "source": [
        "nome = \"Thais\"\n",
        "print(nome)\n"
      ]
    },
    {
      "cell_type": "code",
      "source": [
        "idade = 38\n",
        "idade"
      ],
      "metadata": {
        "colab": {
          "base_uri": "https://localhost:8080/"
        },
        "id": "Ly4eZSz9wcu_",
        "outputId": "c73ee170-046e-4712-9254-5681cda059f2"
      },
      "execution_count": 5,
      "outputs": [
        {
          "output_type": "execute_result",
          "data": {
            "text/plain": [
              "38"
            ]
          },
          "metadata": {},
          "execution_count": 5
        }
      ]
    },
    {
      "cell_type": "code",
      "source": [
        "idade = idade + 2"
      ],
      "metadata": {
        "id": "rBw-HY-8wgv7"
      },
      "execution_count": 6,
      "outputs": []
    },
    {
      "cell_type": "code",
      "source": [
        "idade"
      ],
      "metadata": {
        "colab": {
          "base_uri": "https://localhost:8080/"
        },
        "id": "ucZNcZ8ywk7a",
        "outputId": "89f57b2b-81ce-4549-ca26-21ebe7773845"
      },
      "execution_count": 7,
      "outputs": [
        {
          "output_type": "execute_result",
          "data": {
            "text/plain": [
              "40"
            ]
          },
          "metadata": {},
          "execution_count": 7
        }
      ]
    },
    {
      "cell_type": "code",
      "source": [
        "def mais_um_ano(idade):\n",
        "  print(\"Tá dentro dessa função\")\n",
        "  return idade + 1"
      ],
      "metadata": {
        "id": "9VEub30XwnwC"
      },
      "execution_count": 11,
      "outputs": []
    },
    {
      "cell_type": "code",
      "source": [
        "mais_um_ano(38)"
      ],
      "metadata": {
        "colab": {
          "base_uri": "https://localhost:8080/"
        },
        "id": "rKHQouZUxo5f",
        "outputId": "b6291a83-da9b-454b-df48-e219b3f6ff84"
      },
      "execution_count": 12,
      "outputs": [
        {
          "output_type": "stream",
          "name": "stdout",
          "text": [
            "Tá dentro dessa função\n"
          ]
        },
        {
          "output_type": "execute_result",
          "data": {
            "text/plain": [
              "39"
            ]
          },
          "metadata": {},
          "execution_count": 12
        }
      ]
    },
    {
      "cell_type": "code",
      "source": [
        "cor1 = \"Azul\"\n",
        "cor2 = \"Amarelo\"\n",
        "cor3 = \"Preto\""
      ],
      "metadata": {
        "id": "_iQYOQrYyHOf"
      },
      "execution_count": 13,
      "outputs": []
    },
    {
      "cell_type": "code",
      "source": [
        "cores = [\"Verde\", \"Rosa\", \"Roxo\"]\n",
        "cores"
      ],
      "metadata": {
        "colab": {
          "base_uri": "https://localhost:8080/"
        },
        "id": "BnPiC_Uuy-m1",
        "outputId": "7b95ec7a-5193-4006-9ced-901694a6e6ee"
      },
      "execution_count": 14,
      "outputs": [
        {
          "output_type": "execute_result",
          "data": {
            "text/plain": [
              "['Verde', 'Rosa', 'Roxo']"
            ]
          },
          "metadata": {},
          "execution_count": 14
        }
      ]
    },
    {
      "cell_type": "code",
      "source": [
        "cores = [cor1, cor2, cor3]"
      ],
      "metadata": {
        "id": "smDcmB4IzNgp"
      },
      "execution_count": 15,
      "outputs": []
    },
    {
      "cell_type": "code",
      "source": [
        "cores"
      ],
      "metadata": {
        "colab": {
          "base_uri": "https://localhost:8080/"
        },
        "id": "ZYVIRr-Nzam1",
        "outputId": "d7a209e4-393f-4ead-ada2-8e8d4f7a736e"
      },
      "execution_count": 16,
      "outputs": [
        {
          "output_type": "execute_result",
          "data": {
            "text/plain": [
              "['Azul', 'Amarelo', 'Preto']"
            ]
          },
          "metadata": {},
          "execution_count": 16
        }
      ]
    },
    {
      "cell_type": "code",
      "source": [
        "def imprime_cores(cores_que_quero_imprimir):\n",
        "  print(\"Cores que tenho disponíveis\")\n",
        "  print(cores_que_quero_imprimir)"
      ],
      "metadata": {
        "id": "2HT-Qx8vzc26"
      },
      "execution_count": 17,
      "outputs": []
    },
    {
      "cell_type": "code",
      "source": [
        "imprime_cores(cores)"
      ],
      "metadata": {
        "colab": {
          "base_uri": "https://localhost:8080/"
        },
        "id": "trB7aneb0q1q",
        "outputId": "67b3399e-2971-4c85-8cce-ffeb6f4d1f27"
      },
      "execution_count": 18,
      "outputs": [
        {
          "output_type": "stream",
          "name": "stdout",
          "text": [
            "Cores que tenho disponíveis\n",
            "['Azul', 'Amarelo', 'Preto']\n"
          ]
        }
      ]
    },
    {
      "cell_type": "code",
      "source": [
        "cores[1]"
      ],
      "metadata": {
        "colab": {
          "base_uri": "https://localhost:8080/",
          "height": 35
        },
        "id": "AH-6TlEN0utC",
        "outputId": "6bcea09d-337b-493d-e81f-83c26fda44a3"
      },
      "execution_count": 19,
      "outputs": [
        {
          "output_type": "execute_result",
          "data": {
            "text/plain": [
              "'Amarelo'"
            ],
            "application/vnd.google.colaboratory.intrinsic+json": {
              "type": "string"
            }
          },
          "metadata": {},
          "execution_count": 19
        }
      ]
    },
    {
      "cell_type": "code",
      "source": [
        "cores[-1]"
      ],
      "metadata": {
        "colab": {
          "base_uri": "https://localhost:8080/",
          "height": 35
        },
        "id": "IR4IRhYs1B3B",
        "outputId": "64b8b8b9-030c-4f28-8cd0-bd4960a811b5"
      },
      "execution_count": 20,
      "outputs": [
        {
          "output_type": "execute_result",
          "data": {
            "text/plain": [
              "'Preto'"
            ],
            "application/vnd.google.colaboratory.intrinsic+json": {
              "type": "string"
            }
          },
          "metadata": {},
          "execution_count": 20
        }
      ]
    },
    {
      "cell_type": "code",
      "source": [
        "for cores in cores:\n",
        "  print(cores)"
      ],
      "metadata": {
        "colab": {
          "base_uri": "https://localhost:8080/"
        },
        "id": "yxn4ag2G1SxR",
        "outputId": "42929032-630d-4cc7-9b9b-3400572d4b23"
      },
      "execution_count": 21,
      "outputs": [
        {
          "output_type": "stream",
          "name": "stdout",
          "text": [
            "Azul\n",
            "Amarelo\n",
            "Preto\n"
          ]
        }
      ]
    },
    {
      "cell_type": "code",
      "source": [
        "dados = {\"Nome\": \"Thais\", \"Idade\": \"38\", \"Cor\": \"Azul\"}\n",
        "dados"
      ],
      "metadata": {
        "colab": {
          "base_uri": "https://localhost:8080/"
        },
        "id": "Js6iXALO17zn",
        "outputId": "975b46ab-dcfc-4c6b-8093-94ce816226a1"
      },
      "execution_count": 22,
      "outputs": [
        {
          "output_type": "execute_result",
          "data": {
            "text/plain": [
              "{'Nome': 'Thais', 'Idade': '38', 'Cor': 'Azul'}"
            ]
          },
          "metadata": {},
          "execution_count": 22
        }
      ]
    },
    {
      "cell_type": "code",
      "source": [
        "dados[\"Idade\"]"
      ],
      "metadata": {
        "colab": {
          "base_uri": "https://localhost:8080/",
          "height": 35
        },
        "id": "1x9Gvhrs2_zN",
        "outputId": "822492a3-9408-4e53-af84-b87749bf3051"
      },
      "execution_count": 25,
      "outputs": [
        {
          "output_type": "execute_result",
          "data": {
            "text/plain": [
              "'38'"
            ],
            "application/vnd.google.colaboratory.intrinsic+json": {
              "type": "string"
            }
          },
          "metadata": {},
          "execution_count": 25
        }
      ]
    },
    {
      "cell_type": "code",
      "source": [],
      "metadata": {
        "id": "74GTKDuL3J5F"
      },
      "execution_count": null,
      "outputs": []
    }
  ]
}